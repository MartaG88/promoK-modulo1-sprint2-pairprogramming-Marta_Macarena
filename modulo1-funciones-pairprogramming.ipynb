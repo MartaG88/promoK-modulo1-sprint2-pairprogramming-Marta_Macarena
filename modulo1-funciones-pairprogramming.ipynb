{
 "cells": [
  {
   "cell_type": "code",
   "execution_count": 6,
   "metadata": {},
   "outputs": [
    {
     "name": "stdout",
     "output_type": "stream",
     "text": [
      "El área de un círculo de radio 5 es: 78.5\n"
     ]
    }
   ],
   "source": [
    "#1\n",
    "\n",
    "def calcular_area_circulo(radio):\n",
    "    area_circulo = 3.14 * radio**2\n",
    "    return area_circulo\n",
    "\n",
    "#Aplicamos función\n",
    "radio = 5\n",
    "print(f\"El área de un círculo de radio {radio} es: {calcular_area_circulo(radio)}\")"
   ]
  },
  {
   "cell_type": "markdown",
   "metadata": {},
   "source": [
    "2.Contar la cantidad de caracteres en una cadena.\n",
    "\n",
    "Descripción: Crea una función llamada contar_caracteres que tome una cadena como parámetro y devuelva la cantidad de caracteres que contiene."
   ]
  },
  {
   "cell_type": "code",
   "execution_count": 9,
   "metadata": {},
   "outputs": [
    {
     "name": "stdout",
     "output_type": "stream",
     "text": [
      "1\n",
      "2\n",
      "3\n",
      "4\n",
      "La cadena hola tiene: 4 caracteres\n"
     ]
    }
   ],
   "source": [
    "#2\n",
    "\n",
    "def contar_caracteres(cadena):\n",
    "    numero_caracteres = 0\n",
    "    for letra in cadena:\n",
    "        numero_caracteres += 1\n",
    "        print(numero_caracteres)\n",
    "    return numero_caracteres #IMPORTANTE NO OLVIDAR\n",
    "        \n",
    "#Ejemplo de uso\n",
    "\n",
    "cadena = \"hola\"\n",
    "print(f\"La cadena {cadena} tiene: {contar_caracteres(cadena)} caracteres\")\n",
    "        \n"
   ]
  },
  {
   "cell_type": "code",
   "execution_count": 30,
   "metadata": {},
   "outputs": [
    {
     "name": "stdout",
     "output_type": "stream",
     "text": [
      "La cadena sin espacios, minuscula y unida en una sola cadena es anitalavalatina\n",
      "Es Anita lava la tina un palindromo?: True\n"
     ]
    }
   ],
   "source": [
    "#3\n",
    "\n",
    "def es_palindromo(cadena):\n",
    "    # Eliminamos espacios y convertimos a minúsculas\n",
    "    cadena_limpia = \"\".join(cadena.split()).lower() #Uso el split para quitar los espacios y lo vuelvo a convertir en string con el join porque necesito un string para usar el lower\n",
    "    print(f\"La cadena sin espacios, minuscula y unida en una sola cadena es {cadena_limpia}\")\n",
    "\n",
    "    # Comparamos la cadena limpia con su reverso\n",
    "    return cadena_limpia == cadena_limpia[::-1]\n",
    "\n",
    "# Ejemplos de uso\n",
    "\n",
    "cadena = \"Anita lava la tina\"\n",
    "print(f\"Es {cadena} un palindromo?: {es_palindromo(cadena)}\")  \n",
    "\n"
   ]
  }
 ],
 "metadata": {
  "kernelspec": {
   "display_name": "base",
   "language": "python",
   "name": "python3"
  },
  "language_info": {
   "codemirror_mode": {
    "name": "ipython",
    "version": 3
   },
   "file_extension": ".py",
   "mimetype": "text/x-python",
   "name": "python",
   "nbconvert_exporter": "python",
   "pygments_lexer": "ipython3",
   "version": "3.12.4"
  }
 },
 "nbformat": 4,
 "nbformat_minor": 2
}

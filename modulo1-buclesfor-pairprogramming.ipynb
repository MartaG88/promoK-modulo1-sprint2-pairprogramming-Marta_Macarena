{
 "cells": [
  {
   "cell_type": "markdown",
   "metadata": {},
   "source": [
    "Ejericios bucles for"
   ]
  },
  {
   "cell_type": "code",
   "execution_count": 5,
   "metadata": {},
   "outputs": [
    {
     "name": "stdout",
     "output_type": "stream",
     "text": [
      "1\n",
      "2\n",
      "3\n",
      "4\n",
      "5\n"
     ]
    }
   ],
   "source": [
    "#1-Imprimir los números del 1 al 5 utilizando un bucle for\n",
    "#Descripción: Utiliza un bucle for para imprimir los números del 1 al 5 (incluido) en orden ascendente.\n",
    "#Ascendente\n",
    "rango = range(1, 6 , 1) \n",
    "for i in rango:\n",
    "    print(i)"
   ]
  },
  {
   "cell_type": "code",
   "execution_count": 3,
   "metadata": {},
   "outputs": [
    {
     "name": "stdout",
     "output_type": "stream",
     "text": [
      "5\n",
      "4\n",
      "3\n",
      "2\n",
      "1\n"
     ]
    }
   ],
   "source": [
    "#Descendente\n",
    "rango = range(5, 0, -1) \n",
    "for i in rango:\n",
    "    print(i)\n"
   ]
  },
  {
   "cell_type": "code",
   "execution_count": 11,
   "metadata": {},
   "outputs": [
    {
     "name": "stdout",
     "output_type": "stream",
     "text": [
      "Para el valor i que es:1 el valor suma es:1\n",
      "Para el valor i que es:2 el valor suma es:3\n",
      "Para el valor i que es:3 el valor suma es:6\n",
      "Para el valor i que es:4 el valor suma es:10\n",
      "Para el valor i que es:5 el valor suma es:15\n",
      "Para el valor i que es:6 el valor suma es:21\n",
      "Para el valor i que es:7 el valor suma es:28\n",
      "Para el valor i que es:8 el valor suma es:36\n",
      "Para el valor i que es:9 el valor suma es:45\n",
      "Para el valor i que es:10 el valor suma es:55\n",
      "55\n"
     ]
    }
   ],
   "source": [
    "#2-Calcular la suma de los primeros 10 números naturales utilizando un bucle for\n",
    "#Descripción: Utiliza un bucle for para calcular la suma de los primeros 10 números naturales (1 + 2 + 3 + ... + 10).\n",
    "\n",
    "#difino variable suma, empiza en 0.\n",
    "suma = 0\n",
    "#asignar un rango   \n",
    "rango = range (1, 11)\n",
    "for i in rango:\n",
    "    suma = suma + i\n",
    "    print(f\"Para el valor i que es:{i} el valor suma es:{suma}\")\n",
    "print(suma)"
   ]
  },
  {
   "cell_type": "code",
   "execution_count": 13,
   "metadata": {},
   "outputs": [
    {
     "name": "stdout",
     "output_type": "stream",
     "text": [
      "[1, 2, 3, 4, 5, 6, 7, 8, 9, 10]\n",
      "Para el valor num que es:1 el valor producto es:1\n",
      "Para el valor num que es:2 el valor producto es:2\n",
      "Para el valor num que es:3 el valor producto es:6\n",
      "Para el valor num que es:4 el valor producto es:24\n",
      "Para el valor num que es:5 el valor producto es:120\n",
      "Para el valor num que es:6 el valor producto es:720\n",
      "Para el valor num que es:7 el valor producto es:5040\n",
      "Para el valor num que es:8 el valor producto es:40320\n",
      "Para el valor num que es:9 el valor producto es:362880\n",
      "Para el valor num que es:10 el valor producto es:3628800\n"
     ]
    }
   ],
   "source": [
    "#3.Calcular el producto de los elementos de una lista\n",
    "#Descripción: Dada una lista de números, utiliza un bucle for para calcular el producto de todos los elementos.\n",
    "\n",
    "#la lista va del 1-10.\n",
    "lista = list(range(1, 11))\n",
    "print(lista)\n",
    "#defino variable en 1\n",
    "producto = 1\n",
    "for num in lista:\n",
    "    producto = producto * num\n",
    "    print(f\"Para el valor num que es:{num} el valor producto es:{producto}\")\n",
    "\n"
   ]
  },
  {
   "cell_type": "code",
   "execution_count": null,
   "metadata": {},
   "outputs": [],
   "source": [
    "#4-Imprimir los caracteres de una cadena de texto\n",
    "#Descripción: Dada una cadena de texto, utiliza un bucle for para imprimir cada carácter en una línea separada."
   ]
  }
 ],
 "metadata": {
  "kernelspec": {
   "display_name": "base",
   "language": "python",
   "name": "python3"
  },
  "language_info": {
   "codemirror_mode": {
    "name": "ipython",
    "version": 3
   },
   "file_extension": ".py",
   "mimetype": "text/x-python",
   "name": "python",
   "nbconvert_exporter": "python",
   "pygments_lexer": "ipython3",
   "version": "3.11.7"
  }
 },
 "nbformat": 4,
 "nbformat_minor": 2
}

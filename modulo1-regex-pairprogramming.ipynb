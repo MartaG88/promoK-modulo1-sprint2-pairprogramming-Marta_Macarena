{
 "cells": [
  {
   "cell_type": "code",
   "execution_count": 6,
   "metadata": {},
   "outputs": [
    {
     "name": "stdout",
     "output_type": "stream",
     "text": [
      "(123) 456-7890 es un número de teléfono válido.\n",
      "<re.Match object; span=(0, 14), match='(123) 456-7890'> <class 're.Match'>\n",
      "178 1890-733 no es un número de teléfono válido.\n",
      "(555) 238-1987 es un número de teléfono válido.\n",
      "<re.Match object; span=(0, 14), match='(555) 238-1987'> <class 're.Match'>\n",
      "(123) 4560-7890 no es un número de teléfono válido.\n",
      "(ABC) 098-1111 no es un número de teléfono válido.\n"
     ]
    }
   ],
   "source": [
    "#1\n",
    "\n",
    "import re\n",
    "#Validar un número de teléfono.\n",
    "\n",
    "#Descripción: Verificar si una cadena representa un número de teléfono válido en el formato (XXX) XXX-XXXX.\n",
    "\n",
    "#Probad para cada uno de los teléfonos que tenemos en la siguiente lista:\n",
    "telefonos = [\"(123) 456-7890\", \"178 1890-733\", \"(555) 238-1987\", \"(123) 4560-7890\", \"(ABC) 098-1111\"]\n",
    "\n",
    "# Expresión regular para validar el formato\n",
    "regex = r\"^\\(\\d{3}\\) \\d{3}-\\d{4}$\"\n",
    "\n",
    "\n",
    "\n",
    "# Verificación de cada número de teléfono\n",
    "for telefono in telefonos:\n",
    "    if re.match(regex, telefono):\n",
    "        print(f\"{telefono} es un número de teléfono válido.\")\n",
    "    else:\n",
    "        print(f\"{telefono} no es un número de teléfono válido.\")\n"
   ]
  },
  {
   "cell_type": "code",
   "execution_count": 8,
   "metadata": {},
   "outputs": [
    {
     "name": "stdout",
     "output_type": "stream",
     "text": [
      "['user@example.com', 'john.doe@email.com']\n"
     ]
    }
   ],
   "source": [
    "#2\n",
    "\n",
    "#Buscar todas las direcciones de correo electrónico en un texto.\n",
    "\n",
    "#Descripción: Encontrar todas las direcciones de correo electrónico presentes en una cadena de texto.\n",
    "\n",
    "#Probad con el siguiente string:\n",
    "texto = \"Mi correo es user@example.com. Contacta conmigo en john.doe@email.com\"\n",
    "\n",
    "regex = r\"[a-zA-Z0-9._%+-]+@[a-zA-Z0-9.-]+\\.[a-zA-Z]{2,3}\"\n",
    "\n",
    "lista_correos = re.findall(regex,texto)\n",
    "print(lista_correos)"
   ]
  },
  {
   "cell_type": "code",
   "execution_count": 11,
   "metadata": {},
   "outputs": [
    {
     "name": "stdout",
     "output_type": "stream",
     "text": [
      "12345 es un número de teléfono válido.\n",
      "190037 no es un número de teléfono válido.\n",
      "78409 es un número de teléfono válido.\n",
      "986449 no es un número de teléfono válido.\n",
      "19305 es un número de teléfono válido.\n"
     ]
    }
   ],
   "source": [
    "#3\n",
    "\n",
    "# Validar un código postal.\n",
    "\n",
    "# Descripción: Verificar si una cadena representa un código postal válido de 5 dígitos.\n",
    "\n",
    "# Probad para cada uno de los códigos postales que tenemos en la siguiente lista:\n",
    "codigos_postales = [\"12345\", \"190037\", \"78409\", \"986449\", \"19305\"]\n",
    "\n",
    "regex =r\"^\\d{5}$\"\n",
    "\n",
    "for codigo in codigos_postales:\n",
    "    if re.match(regex, codigo):\n",
    "        print(f\"{codigo} es un número de teléfono válido.\")\n",
    "    else:\n",
    "        print(f\"{codigo} no es un número de teléfono válido.\")\n"
   ]
  }
 ],
 "metadata": {
  "kernelspec": {
   "display_name": "base",
   "language": "python",
   "name": "python3"
  },
  "language_info": {
   "codemirror_mode": {
    "name": "ipython",
    "version": 3
   },
   "file_extension": ".py",
   "mimetype": "text/x-python",
   "name": "python",
   "nbconvert_exporter": "python",
   "pygments_lexer": "ipython3",
   "version": "3.12.4"
  }
 },
 "nbformat": 4,
 "nbformat_minor": 2
}
